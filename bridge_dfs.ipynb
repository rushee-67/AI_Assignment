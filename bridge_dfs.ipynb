{
 "cells": [
  {
   "cell_type": "code",
   "execution_count": 1,
   "id": "c3498497",
   "metadata": {},
   "outputs": [],
   "source": [
    "N = 4\n",
    "cross_times = [5, 10, 20, 25]\n",
    "names = [\"Amogh\", \"Ameya\", \"Grandma\", \"Grandpa\"]\n"
   ]
  },
  {
   "cell_type": "code",
   "execution_count": 2,
   "id": "b2064f7a",
   "metadata": {},
   "outputs": [],
   "source": [
    "def get_moves(to_right):\n",
    "    moves = []\n",
    "    if to_right:\n",
    "        for i in range(N):\n",
    "            for j in range(i + 1, N):\n",
    "                moves.append((i, j))\n",
    "        for i in range(N):\n",
    "            moves.append((i, -1))\n",
    "    else:\n",
    "        for i in range(N):\n",
    "            moves.append((i, -1))\n",
    "    return moves\n"
   ]
  },
  {
   "cell_type": "code",
   "execution_count": 13,
   "id": "5e72db1f",
   "metadata": {},
   "outputs": [],
   "source": [
    "def dfs_util(left, torch_side, time_spent, path, visited, best):\n",
    "    if time_spent > 60:\n",
    "        return\n",
    "\n",
    "    if left == (1 << N) - 1 and torch_side == 1:\n",
    "        if time_spent < best['min_time']:\n",
    "            best['min_time'] = time_spent\n",
    "            best['solution'] = path\n",
    "        return\n",
    "\n",
    "    if (left, torch_side) in visited and visited[(left, torch_side)] <= time_spent:\n",
    "        return\n",
    "    visited[(left, torch_side)] = time_spent\n",
    "\n",
    "    moves = get_moves(torch_side == 0)\n",
    "\n",
    "    for i1, i2 in moves:\n",
    "        if torch_side == 0:\n",
    "            if (left >> i1) & 1:\n",
    "                continue\n",
    "            if i2 != -1 and (left >> i2) & 1:\n",
    "                continue\n",
    "        else:\n",
    "            if not (left >> i1) & 1:\n",
    "                continue\n",
    "            if i2 != -1 and not (left >> i2) & 1:\n",
    "                continue\n",
    "\n",
    "        new_left = left\n",
    "        move_time = cross_times[i1]\n",
    "        step = \"→ \"\n",
    "\n",
    "        if i2 != -1:\n",
    "            move_time = max(move_time, cross_times[i2])\n",
    "\n",
    "        if torch_side == 0:\n",
    "            new_left |= (1 << i1)\n",
    "            if i2 != -1:\n",
    "                new_left |= (1 << i2)\n",
    "        else:\n",
    "            new_left &= ~(1 << i1)\n",
    "            if i2 != -1:\n",
    "                new_left &= ~(1 << i2)\n",
    "            step = \"← \"\n",
    "\n",
    "        persons = names[i1]\n",
    "        if i2 != -1:\n",
    "            persons += f\" and {names[i2]}\"\n",
    "\n",
    "        action = \"cross\" if torch_side == 0 else \"return\"\n",
    "        move_desc = f\"{persons} {action} = {move_time}min\\n\"\n",
    "\n",
    "\n",
    "\n",
    "        dfs_util(\n",
    "            new_left,\n",
    "            1 - torch_side,\n",
    "            time_spent + move_time,\n",
    "            path + move_desc,\n",
    "            visited,\n",
    "            best\n",
    "        )\n"
   ]
  },
  {
   "cell_type": "code",
   "execution_count": 14,
   "id": "967cedf5",
   "metadata": {},
   "outputs": [],
   "source": [
    "def dfs():\n",
    "    visited = {}\n",
    "    best = {'min_time': 61, 'solution': \"\"}\n",
    "\n",
    "    dfs_util(0, 0, 0, \"\", visited, best)\n",
    "\n",
    "    if best['min_time'] <= 60:\n",
    "        print(best['solution'], end=\"\")\n",
    "        print(f\"Total Time = {best['min_time']}min\")\n",
    "    else:\n",
    "        print(\"DFS: No solution found within 60 minutes.\")\n"
   ]
  },
  {
   "cell_type": "code",
   "execution_count": 15,
   "id": "344b0b22",
   "metadata": {},
   "outputs": [
    {
     "name": "stdout",
     "output_type": "stream",
     "text": [
      "Amogh and Ameya cross = 10min\n",
      "Amogh return = 5min\n",
      "Grandma and Grandpa cross = 25min\n",
      "Ameya return = 10min\n",
      "Amogh and Ameya cross = 10min\n",
      "Total Time = 60min\n"
     ]
    }
   ],
   "source": [
    "dfs()\n"
   ]
  },
  {
   "cell_type": "code",
   "execution_count": null,
   "id": "773d3e8d",
   "metadata": {},
   "outputs": [],
   "source": []
  }
 ],
 "metadata": {
  "kernelspec": {
   "display_name": "base",
   "language": "python",
   "name": "python3"
  },
  "language_info": {
   "codemirror_mode": {
    "name": "ipython",
    "version": 3
   },
   "file_extension": ".py",
   "mimetype": "text/x-python",
   "name": "python",
   "nbconvert_exporter": "python",
   "pygments_lexer": "ipython3",
   "version": "3.12.7"
  }
 },
 "nbformat": 4,
 "nbformat_minor": 5
}
