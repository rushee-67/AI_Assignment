{
 "cells": [
  {
   "cell_type": "code",
   "execution_count": null,
   "id": "b9cca942",
   "metadata": {},
   "outputs": [],
   "source": [
    "import heapq\n",
    "import math\n",
    "\n",
    "\n",
    "directions = [(-1, -1), (-1, 0), (-1, 1),\n",
    "              (0, -1),           (0, 1),\n",
    "              (1, -1),  (1, 0),  (1, 1)]\n",
    "\n",
    "def in_bounds(r, c, n):\n",
    "    return 0 <= r < n and 0 <= c < n\n",
    "\n",
    "def heuristic(a, b, method=\"manhattan\"):\n",
    "    (x1, y1), (x2, y2) = a, b\n",
    "    if method == \"manhattan\":\n",
    "        return abs(x1 - x2) + abs(y1 - y2)\n",
    "    else:  \n",
    "        return math.sqrt((x1 - x2)**2 + (y1 - y2)**2)\n"
   ]
  },
  {
   "cell_type": "code",
   "execution_count": 6,
   "id": "3f3dab6e",
   "metadata": {},
   "outputs": [],
   "source": [
    "def best_first_search(grid, heuristic_type=\"manhattan\"):\n",
    "    n = len(grid)\n",
    "    start, goal = (0, 0), (n-1, n-1)\n",
    "\n",
    "    if grid[0][0] == 1 or grid[n-1][n-1] == 1:\n",
    "        return -1, []\n",
    "\n",
    "    pq = [(heuristic(start, goal, heuristic_type), start, [start])]\n",
    "    visited = set([start])\n",
    "\n",
    "    while pq:\n",
    "        _, (r, c), path = heapq.heappop(pq)\n",
    "\n",
    "        if (r, c) == goal:\n",
    "            return len(path), path\n",
    "\n",
    "        for dr, dc in directions:\n",
    "            nr, nc = r + dr, c + dc\n",
    "            if in_bounds(nr, nc, n) and grid[nr][nc] == 0 and (nr, nc) not in visited:\n",
    "                visited.add((nr, nc))\n",
    "                heapq.heappush(pq, (heuristic((nr, nc), goal, heuristic_type), (nr, nc), path + [(nr, nc)]))\n",
    "\n",
    "    return -1, []\n"
   ]
  },
  {
   "cell_type": "code",
   "execution_count": 8,
   "id": "32bec4f7",
   "metadata": {},
   "outputs": [
    {
     "name": "stdout",
     "output_type": "stream",
     "text": [
      "Example 1:\n",
      "Best First Search → Path length: 2, Path: [(0, 0), (1, 1)]\n",
      "Example 2:\n",
      "Best First Search → Path length: 4, Path: [(0, 0), (0, 1), (1, 2), (2, 2)]\n",
      "Example 3:\n",
      "Best First Search → Path length: -1, Path: []\n"
     ]
    }
   ],
   "source": [
    "grids = [\n",
    "    [[0,1],\n",
    "     [1,0]],\n",
    "\n",
    "    [[0,0,0],\n",
    "     [1,1,0],\n",
    "     [1,1,0]],\n",
    "\n",
    "    [[1,0,0],\n",
    "     [1,1,0],\n",
    "     [1,1,0]]\n",
    "]\n",
    "\n",
    "for i, grid in enumerate(grids, 1):\n",
    "    print(f\"Example {i}:\")\n",
    "\n",
    "    bfs_len, bfs_path = best_first_search(grid)\n",
    "    print(f\"Best First Search → Path length: {bfs_len}, Path: {bfs_path}\")\n",
    "\n"
   ]
  },
  {
   "cell_type": "code",
   "execution_count": null,
   "id": "91272c62",
   "metadata": {},
   "outputs": [],
   "source": []
  }
 ],
 "metadata": {
  "kernelspec": {
   "display_name": "base",
   "language": "python",
   "name": "python3"
  },
  "language_info": {
   "codemirror_mode": {
    "name": "ipython",
    "version": 3
   },
   "file_extension": ".py",
   "mimetype": "text/x-python",
   "name": "python",
   "nbconvert_exporter": "python",
   "pygments_lexer": "ipython3",
   "version": "3.12.7"
  }
 },
 "nbformat": 4,
 "nbformat_minor": 5
}
