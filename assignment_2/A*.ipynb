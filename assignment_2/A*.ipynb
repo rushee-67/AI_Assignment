{
 "cells": [
  {
   "cell_type": "code",
   "execution_count": null,
   "id": "e5ce537e",
   "metadata": {},
   "outputs": [],
   "source": [
    "import heapq\n",
    "import math\n",
    "\n",
    "directions = [(-1, -1), (-1, 0), (-1, 1),\n",
    "              (0, -1),           (0, 1),\n",
    "              (1, -1),  (1, 0),  (1, 1)]\n",
    "\n",
    "def in_bounds(r, c, n):\n",
    "    return 0 <= r < n and 0 <= c < n\n",
    "\n",
    "def heuristic(a, b, method=\"manhattan\"):\n",
    "    (x1, y1), (x2, y2) = a, b\n",
    "    if method == \"manhattan\":\n",
    "        return abs(x1 - x2) + abs(y1 - y2)\n",
    "    else:  \n",
    "        return math.sqrt((x1 - x2)**2 + (y1 - y2)**2)\n"
   ]
  },
  {
   "cell_type": "code",
   "execution_count": 2,
   "id": "eab5cd61",
   "metadata": {},
   "outputs": [],
   "source": [
    "def a_star_search(grid, heuristic_type=\"manhattan\"):\n",
    "    n = len(grid)\n",
    "    start, goal = (0, 0), (n-1, n-1)\n",
    "\n",
    "    if grid[0][0] == 1 or grid[n-1][n-1] == 1:\n",
    "        return -1, []\n",
    "\n",
    "    pq = [(heuristic(start, goal, heuristic_type), 0, start, [start])]\n",
    "    g_scores = {start: 0}\n",
    "\n",
    "    while pq:\n",
    "        f, g, (r, c), path = heapq.heappop(pq)\n",
    "\n",
    "        if (r, c) == goal:\n",
    "            return len(path), path\n",
    "\n",
    "        for dr, dc in directions:\n",
    "            nr, nc = r + dr, c + dc\n",
    "            if in_bounds(nr, nc, n) and grid[nr][nc] == 0:\n",
    "                new_g = g + 1\n",
    "                if (nr, nc) not in g_scores or new_g < g_scores[(nr, nc)]:\n",
    "                    g_scores[(nr, nc)] = new_g\n",
    "                    new_f = new_g + heuristic((nr, nc), goal, heuristic_type)\n",
    "                    heapq.heappush(pq, (new_f, new_g, (nr, nc), path + [(nr, nc)]))\n",
    "\n",
    "    return -1, []\n"
   ]
  },
  {
   "cell_type": "code",
   "execution_count": 4,
   "id": "ea981d64",
   "metadata": {},
   "outputs": [
    {
     "name": "stdout",
     "output_type": "stream",
     "text": [
      "Example 1:\n",
      "A* Search → Path length: 2, Path: [(0, 0), (1, 1)]\n",
      "\n",
      "Example 2:\n",
      "A* Search → Path length: 4, Path: [(0, 0), (0, 1), (1, 2), (2, 2)]\n",
      "\n",
      "Example 3:\n",
      "A* Search → Path length: -1, Path: []\n",
      "\n"
     ]
    }
   ],
   "source": [
    "grids = [\n",
    "    [[0,1],\n",
    "     [1,0]],\n",
    "\n",
    "    [[0,0,0],\n",
    "     [1,1,0],\n",
    "     [1,1,0]],\n",
    "\n",
    "    [[1,0,0],\n",
    "     [1,1,0],\n",
    "     [1,1,0]]\n",
    "]\n",
    "\n",
    "for i, grid in enumerate(grids, 1):\n",
    "    print(f\"Example {i}:\")\n",
    "\n",
    "    astar_len, astar_path = a_star_search(grid)\n",
    "    print(f\"A* Search → Path length: {astar_len}, Path: {astar_path}\")\n",
    "    print()\n"
   ]
  },
  {
   "cell_type": "code",
   "execution_count": null,
   "id": "e0293d67",
   "metadata": {},
   "outputs": [],
   "source": []
  }
 ],
 "metadata": {
  "kernelspec": {
   "display_name": "base",
   "language": "python",
   "name": "python3"
  },
  "language_info": {
   "codemirror_mode": {
    "name": "ipython",
    "version": 3
   },
   "file_extension": ".py",
   "mimetype": "text/x-python",
   "name": "python",
   "nbconvert_exporter": "python",
   "pygments_lexer": "ipython3",
   "version": "3.12.7"
  }
 },
 "nbformat": 4,
 "nbformat_minor": 5
}
