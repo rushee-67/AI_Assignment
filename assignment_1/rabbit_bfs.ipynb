{
 "cells": [
  {
   "cell_type": "code",
   "execution_count": 1,
   "id": "eb952b86",
   "metadata": {},
   "outputs": [],
   "source": [
    "from collections import deque\n",
    "\n",
    "\n",
    "def get_moves(state):\n",
    "    result = []\n",
    "    empty = state.index('_')\n",
    "    n = len(state)\n",
    "\n",
    "    if empty > 0 and state[empty - 1] == 'E':\n",
    "        next_state = list(state)\n",
    "        next_state[empty], next_state[empty - 1] = next_state[empty - 1], next_state[empty]\n",
    "        result.append(''.join(next_state))\n",
    "\n",
    "    if empty > 1 and state[empty - 2] == 'E':\n",
    "        next_state = list(state)\n",
    "        next_state[empty], next_state[empty - 2] = next_state[empty - 2], next_state[empty]\n",
    "        result.append(''.join(next_state))\n",
    "\n",
    "    if empty < n - 1 and state[empty + 1] == 'W':\n",
    "        next_state = list(state)\n",
    "        next_state[empty], next_state[empty + 1] = next_state[empty + 1], next_state[empty]\n",
    "        result.append(''.join(next_state))\n",
    "\n",
    "    if empty < n - 2 and state[empty + 2] == 'W':\n",
    "        next_state = list(state)\n",
    "        next_state[empty], next_state[empty + 2] = next_state[empty + 2], next_state[empty]\n",
    "        result.append(''.join(next_state))\n",
    "\n",
    "    return result\n"
   ]
  },
  {
   "cell_type": "code",
   "execution_count": 2,
   "id": "ee1bd154",
   "metadata": {},
   "outputs": [],
   "source": [
    "def bfs(start, goal):\n",
    "    queue = deque()\n",
    "    visited = set()\n",
    "\n",
    "    queue.append((start, [start]))\n",
    "    visited.add(start)\n",
    "\n",
    "    while queue:\n",
    "        state, path = queue.popleft()\n",
    "\n",
    "        if state == goal:\n",
    "            for p in path:\n",
    "                print(p)\n",
    "            return\n",
    "\n",
    "        for next_state in get_moves(state):\n",
    "            if next_state not in visited:\n",
    "                visited.add(next_state)\n",
    "                queue.append((next_state, path + [next_state]))\n",
    "\n",
    "    print(\"No solution\")\n"
   ]
  },
  {
   "cell_type": "code",
   "execution_count": 3,
   "id": "0c52847e",
   "metadata": {},
   "outputs": [
    {
     "name": "stdout",
     "output_type": "stream",
     "text": [
      "EEE_WWW\n",
      "EE_EWWW\n",
      "EEWE_WW\n",
      "EEWEW_W\n",
      "EEW_WEW\n",
      "E_WEWEW\n",
      "_EWEWEW\n",
      "WE_EWEW\n",
      "WEWE_EW\n",
      "WEWEWE_\n",
      "WEWEW_E\n",
      "WEW_WEE\n",
      "W_WEWEE\n",
      "WW_EWEE\n",
      "WWWE_EE\n",
      "WWW_EEE\n"
     ]
    }
   ],
   "source": [
    "start_state = \"EEE_WWW\"\n",
    "goal_state = \"WWW_EEE\"\n",
    "\n",
    "bfs(start_state, goal_state)\n"
   ]
  },
  {
   "cell_type": "code",
   "execution_count": null,
   "id": "e45927a1",
   "metadata": {},
   "outputs": [],
   "source": []
  }
 ],
 "metadata": {
  "kernelspec": {
   "display_name": "base",
   "language": "python",
   "name": "python3"
  },
  "language_info": {
   "codemirror_mode": {
    "name": "ipython",
    "version": 3
   },
   "file_extension": ".py",
   "mimetype": "text/x-python",
   "name": "python",
   "nbconvert_exporter": "python",
   "pygments_lexer": "ipython3",
   "version": "3.12.7"
  }
 },
 "nbformat": 4,
 "nbformat_minor": 5
}
