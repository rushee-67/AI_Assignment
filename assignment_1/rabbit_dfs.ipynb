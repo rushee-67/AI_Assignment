{
 "cells": [
  {
   "cell_type": "code",
   "execution_count": 1,
   "id": "22635ab6",
   "metadata": {},
   "outputs": [],
   "source": [
    "from collections import deque\n",
    "\n",
    "def get_moves(state):\n",
    "    moves = []\n",
    "    empty = state.index('_')\n",
    "    n = len(state)\n",
    "\n",
    "    if empty > 0 and state[empty - 1] == 'E':\n",
    "        s = list(state)\n",
    "        s[empty], s[empty - 1] = s[empty - 1], s[empty]\n",
    "        moves.append(''.join(s))\n",
    "\n",
    "    if empty > 1 and state[empty - 2] == 'E':\n",
    "        s = list(state)\n",
    "        s[empty], s[empty - 2] = s[empty - 2], s[empty]\n",
    "        moves.append(''.join(s))\n",
    "\n",
    "    if empty < n - 1 and state[empty + 1] == 'W':\n",
    "        s = list(state)\n",
    "        s[empty], s[empty + 1] = s[empty + 1], s[empty]\n",
    "        moves.append(''.join(s))\n",
    "\n",
    "    if empty < n - 2 and state[empty + 2] == 'W':\n",
    "        s = list(state)\n",
    "        s[empty], s[empty + 2] = s[empty + 2], s[empty]\n",
    "        moves.append(''.join(s))\n",
    "\n",
    "    return moves\n",
    "\n"
   ]
  },
  {
   "cell_type": "code",
   "execution_count": null,
   "id": "ece95b5d",
   "metadata": {},
   "outputs": [],
   "source": [
    "def dfs_util(current, goal, visited, path):\n",
    "    if current == goal:\n",
    "        for step in path:\n",
    "            print(step)\n",
    "        return True\n",
    "\n",
    "    for next_state in get_moves(current):\n",
    "        if next_state not in visited:\n",
    "            visited.add(next_state)\n",
    "            path.append(next_state)\n",
    "\n",
    "            if dfs_util(next_state, goal, visited, path):\n",
    "                return True\n",
    "\n",
    "            path.pop()  \n",
    "\n",
    "    return False\n"
   ]
  },
  {
   "cell_type": "code",
   "execution_count": 7,
   "id": "978c61ce",
   "metadata": {},
   "outputs": [],
   "source": [
    "def dfs(start, goal):\n",
    "    visited = set()\n",
    "    path = [start]\n",
    "    visited.add(start)\n",
    "\n",
    "    if not dfs_util(start, goal, visited, path):\n",
    "        print(\"No solution\")\n"
   ]
  },
  {
   "cell_type": "code",
   "execution_count": 8,
   "id": "016e6863",
   "metadata": {},
   "outputs": [
    {
     "name": "stdout",
     "output_type": "stream",
     "text": [
      "EEE_WWW\n",
      "EE_EWWW\n",
      "EEWE_WW\n",
      "EEWEW_W\n",
      "EEW_WEW\n",
      "E_WEWEW\n",
      "_EWEWEW\n",
      "WE_EWEW\n",
      "WEWE_EW\n",
      "WEWEWE_\n",
      "WEWEW_E\n",
      "WEW_WEE\n",
      "W_WEWEE\n",
      "WW_EWEE\n",
      "WWWE_EE\n",
      "WWW_EEE\n"
     ]
    }
   ],
   "source": [
    "start_state = \"EEE_WWW\"\n",
    "goal_state = \"WWW_EEE\"\n",
    "\n",
    "dfs(start_state, goal_state)\n"
   ]
  },
  {
   "cell_type": "code",
   "execution_count": null,
   "id": "e6ccb91d",
   "metadata": {},
   "outputs": [],
   "source": []
  }
 ],
 "metadata": {
  "kernelspec": {
   "display_name": "base",
   "language": "python",
   "name": "python3"
  },
  "language_info": {
   "codemirror_mode": {
    "name": "ipython",
    "version": 3
   },
   "file_extension": ".py",
   "mimetype": "text/x-python",
   "name": "python",
   "nbconvert_exporter": "python",
   "pygments_lexer": "ipython3",
   "version": "3.12.7"
  }
 },
 "nbformat": 4,
 "nbformat_minor": 5
}
