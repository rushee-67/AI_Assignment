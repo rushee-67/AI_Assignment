{
 "cells": [
  {
   "cell_type": "code",
   "execution_count": 21,
   "id": "c9f7c841",
   "metadata": {},
   "outputs": [],
   "source": [
    "\n",
    "N = 4\n",
    "cross_times = [5, 10, 20, 25]\n",
    "names = [\"Amogh\", \"Ameya\", \"Grandma\", \"Grandpa\"]\n"
   ]
  },
  {
   "cell_type": "code",
   "execution_count": 22,
   "id": "ae760501",
   "metadata": {},
   "outputs": [],
   "source": [
    "def get_moves(to_right):\n",
    "    moves = []\n",
    "    if to_right:\n",
    "        for i in range(N):\n",
    "            for j in range(i + 1, N):\n",
    "                moves.append((i, j))\n",
    "        for i in range(N):\n",
    "            moves.append((i, -1))\n",
    "    else:\n",
    "        for i in range(N):\n",
    "            moves.append((i, -1)) \n",
    "    return moves\n"
   ]
  },
  {
   "cell_type": "code",
   "execution_count": 23,
   "id": "3976ec5d",
   "metadata": {},
   "outputs": [],
   "source": [
    "from collections import deque\n",
    "\n",
    "class State:\n",
    "    def __init__(self, left_mask, torch_side, time_spent, path):\n",
    "        self.left = left_mask   \n",
    "        self.umb = torch_side \n",
    "        self.time = time_spent\n",
    "        self.path = path\n"
   ]
  },
  {
   "cell_type": "code",
   "execution_count": 24,
   "id": "29b51dee",
   "metadata": {},
   "outputs": [],
   "source": [
    "def bfs():\n",
    "    visited = set()\n",
    "    q = deque()\n",
    "    q.append(State(0, 0, 0, \"\"))\n",
    "\n",
    "    while q:\n",
    "        curr = q.popleft()\n",
    "\n",
    "        if curr.left == (1 << N) - 1 and curr.umb == 1 and curr.time <= 60:\n",
    "            print(curr.path, end=\"\")\n",
    "            print(f\"Total Time = {curr.time}min\")\n",
    "\n",
    "            return\n",
    "\n",
    "        if (curr.left, curr.umb) in visited:\n",
    "            continue\n",
    "        visited.add((curr.left, curr.umb))\n",
    "\n",
    "        moves = get_moves(curr.umb == 0)\n",
    "\n",
    "        for i1, i2 in moves:\n",
    "            if curr.umb == 0:\n",
    "                if (curr.left >> i1) & 1:\n",
    "                    continue\n",
    "                if i2 != -1 and (curr.left >> i2) & 1:\n",
    "                    continue\n",
    "            else:\n",
    "                if not (curr.left >> i1) & 1:\n",
    "                    continue\n",
    "                if i2 != -1 and not (curr.left >> i2) & 1:\n",
    "                    continue\n",
    "\n",
    "            new_left = curr.left\n",
    "            move_time = cross_times[i1]\n",
    "            step = \"→ \"\n",
    "\n",
    "            if i2 != -1:\n",
    "                move_time = max(move_time, cross_times[i2])\n",
    "\n",
    "            if curr.umb == 0:\n",
    "                new_left |= (1 << i1)\n",
    "                if i2 != -1:\n",
    "                    new_left |= (1 << i2)\n",
    "            else:\n",
    "                new_left &= ~(1 << i1)\n",
    "                if i2 != -1:\n",
    "                    new_left &= ~(1 << i2)\n",
    "                step = \"← \"\n",
    "\n",
    "            if i2 != -1:\n",
    "                persons = f\"{names[i1]} and {names[i2]}\"\n",
    "            else:\n",
    "                persons = names[i1]\n",
    "\n",
    "            action = \"cross\" if curr.umb == 0 else \"return\"\n",
    "            desc = f\"{persons} {action} = {move_time}min\\n\"\n",
    "\n",
    "\n",
    "            q.append(State(new_left, 1 - curr.umb, curr.time + move_time, curr.path + desc))\n",
    "\n",
    "    print(\"BFS: No solution found within 60 minutes.\")\n"
   ]
  },
  {
   "cell_type": "code",
   "execution_count": 25,
   "id": "b22485bc",
   "metadata": {},
   "outputs": [
    {
     "name": "stdout",
     "output_type": "stream",
     "text": [
      "Amogh and Ameya cross = 10min\n",
      "Amogh return = 5min\n",
      "Grandma and Grandpa cross = 25min\n",
      "Ameya return = 10min\n",
      "Amogh and Ameya cross = 10min\n",
      "Total Time = 60min\n"
     ]
    }
   ],
   "source": [
    "bfs()\n"
   ]
  },
  {
   "cell_type": "markdown",
   "id": "dee245ff",
   "metadata": {},
   "source": []
  },
  {
   "cell_type": "code",
   "execution_count": null,
   "id": "69e54049",
   "metadata": {},
   "outputs": [],
   "source": []
  }
 ],
 "metadata": {
  "kernelspec": {
   "display_name": "base",
   "language": "python",
   "name": "python3"
  },
  "language_info": {
   "codemirror_mode": {
    "name": "ipython",
    "version": 3
   },
   "file_extension": ".py",
   "mimetype": "text/x-python",
   "name": "python",
   "nbconvert_exporter": "python",
   "pygments_lexer": "ipython3",
   "version": "3.12.7"
  }
 },
 "nbformat": 4,
 "nbformat_minor": 5
}
